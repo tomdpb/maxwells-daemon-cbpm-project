{
 "cells": [
  {
   "cell_type": "markdown",
   "id": "050011a2-6979-4c7d-8765-c5ed32fc2bec",
   "metadata": {},
   "source": [
    "# Maxwell's Daemon\n",
    "### Final Project for Computer Based Physical Modelling\n",
    "### Thomas de Paula Barbosa - 3749592"
   ]
  },
  {
   "cell_type": "markdown",
   "id": "92a21e01-2919-4c6a-bf6d-7cc3734138be",
   "metadata": {},
   "source": [
    "# Theory\n",
    "## About the Daemon\n",
    "Maxwell's daemon is a thought experiment made to test the validity the Second Law of Thermodynamics. The thought experiment consists in two isolated boxes filled with gas which have a gate in between them. The gate's opening and closing is controlled by a daemon who only allows molecules that have a certain velocity to pass through the gate. After a set amount of time, this means that faster (hotter) molecules will be on one side, while the slower (colder) molecules will be in the other side. Assuming this could actually happen, one of the system's container would decrease in temperature and the other one would increase. Since we would be ordering an unordered system without adding energy, this would actually decrease its entropy, which is a direct violation of the Second Law of Thermodynamics.\n",
    "\n",
    "## Brief Note on Code\n",
    "While Python is dynamically typed, I like giving type hints for keeping track of things more easily. The objective of this code is to simulate Maxwell's Daemon and observe what happens to the temperature in each container."
   ]
  },
  {
   "cell_type": "markdown",
   "id": "c571e040-7da1-4475-9cf1-cb236297a30a",
   "metadata": {},
   "source": [
    "## Collisions\n",
    "In the simulation, all collisions are perfectly elastic and momentum is conserved. Since all the masses are the same, the resulting velocity of each particle is as follows:\n",
    "$$\n",
    "P_i = P_f\\\\\n",
    "m_1 u_1 + m_2 u_2 = m_1 v_1 + m_2 v_2\\\\\n",
    "u_1 + u_2 = v_1 + v_2\n",
    "$$\n",
    "\n",
    "As for kinetic energy, we have\n",
    "\n",
    "$$\n",
    "K_i = K_f\\\\\n",
    "\\frac{1}{2}m_1 u_1^2 + \\frac{1}{2}m_2 u_2^2 = \\frac{1}{2}m_1 v_1^2 + \\frac{1}{2}m_2 v_2^2\n",
    "$$\n",
    "\n",
    "Solving for $v_1$ and $v_2$ we have\n",
    "\n",
    "$$\n",
    "v_1 = \\frac{m_1 - m_2}{m_1 + m_2}u_1 + \\frac{2m_2}{m_1 + m_2}u_2\\\\\n",
    "v_2 = \\frac{m_2 - m_1}{m_1 + m_2}u_2 + \\frac{2m_1}{m_1 + m_2}u_1\n",
    "$$\n",
    "\n",
    "Since both masses are the same, the solution becomes:\n",
    "\n",
    "$$\n",
    "v_1 = u_2 \\\\\n",
    "v_2 = u_1\n",
    "$$\n",
    "In code, this means that we can (and will) simply exchange the velocity of the first particle with the velocity of the second particle."
   ]
  },
  {
   "cell_type": "markdown",
   "id": "3d05f721-0ff6-4e55-ba29-56a540b5a211",
   "metadata": {},
   "source": [
    "## Creating the Canvas"
   ]
  },
  {
   "cell_type": "code",
   "execution_count": 1,
   "id": "2641df40-8770-4f36-a841-d07741f5ba52",
   "metadata": {},
   "outputs": [],
   "source": [
    "from ipycanvas import hold_canvas, Canvas, MultiCanvas\n",
    "import numpy as np\n",
    "\n",
    "\n",
    "CONTAINER_COORDINATES = np.array([800, 600])  # x, y\n",
    "# the daemon will open the gate for a particle when it reaches this speed\n",
    "SPEED_THRESHHOLD: float = 10.0\n",
    "GATE_SIZE: int = 100\n",
    "X, Y = 0, 1  # this is just for ease of reading\n",
    "PARTICLE_RADIUS: int = 5"
   ]
  },
  {
   "cell_type": "code",
   "execution_count": 2,
   "id": "44982778-6c58-4f23-9bd1-3fe7424c4508",
   "metadata": {},
   "outputs": [],
   "source": [
    "%load_ext autoreload\n",
    "%autoreload complete\n",
    "from particle_class import *\n",
    "molecules = []\n",
    "N_PARTICLES = 50\n",
    "for _ in range(N_PARTICLES):\n",
    "    molecules.append(\n",
    "        Particle(\n",
    "            position=np.array([\n",
    "                # TODO ensure they don't generate on the limits/borders\n",
    "                np.random.uniform(2*PARTICLE_RADIUS, CONTAINER_COORDINATES[X] - 2*PARTICLE_RADIUS + 1),\n",
    "                np.random.uniform(2*PARTICLE_RADIUS, CONTAINER_COORDINATES[Y] - 2*PARTICLE_RADIUS + 1),\n",
    "            ]),\n",
    "            velocity=np.random.random(2) * np.random.choice([-1, 1], size=2) * 8,\n",
    "            radius=PARTICLE_RADIUS,\n",
    "            #angle=np.random.uniform(0, 2*np.pi)\n",
    "        )\n",
    "    )"
   ]
  },
  {
   "cell_type": "code",
   "execution_count": 3,
   "id": "cf5a4f48-4788-4ed2-9ee5-763d47f198cc",
   "metadata": {},
   "outputs": [
    {
     "data": {
      "application/vnd.jupyter.widget-view+json": {
       "model_id": "c27f7a7fde484bcab46d650c2abc2a8b",
       "version_major": 2,
       "version_minor": 0
      },
      "text/plain": [
       "Canvas(height=600, width=800)"
      ]
     },
     "metadata": {},
     "output_type": "display_data"
    }
   ],
   "source": [
    "# NOTE ipycanvas seems to have a bug where numbers must be converted to python's int\n",
    "# this happens despite the fact that the documentation claims it should be compatible with numpy\n",
    "cc = Canvas(width=CONTAINER_COORDINATES[X], height=CONTAINER_COORDINATES[Y])\n",
    "container_middle = int(CONTAINER_COORDINATES[X]/2), int(CONTAINER_COORDINATES[Y]/2)\n",
    "STEPS = 2_000\n",
    "with hold_canvas(cc):\n",
    "    for _ in range(STEPS):\n",
    "        cc.clear()\n",
    "        \n",
    "        # box\n",
    "        cc.stroke_style = \"black\"\n",
    "        cc.stroke_rect(1, 1, int(CONTAINER_COORDINATES[X]-1), int(CONTAINER_COORDINATES[Y]-1))\n",
    "        # middle line\n",
    "        cc.stroke_line(\n",
    "            container_middle[X], 0, \n",
    "            container_middle[X], int(container_middle[Y] - GATE_SIZE/2)\n",
    "        )\n",
    "        cc.stroke_line(\n",
    "            container_middle[X], int(CONTAINER_COORDINATES[Y]),\n",
    "            container_middle[X], int(container_middle[Y] + GATE_SIZE/2)\n",
    "        )\n",
    "        # gate/daemon\n",
    "        cc.stroke_style = \"#9c06ec\"  # purple\n",
    "        cc.stroke_line(\n",
    "            container_middle[X], int(container_middle[Y] - GATE_SIZE/2),\n",
    "            container_middle[X], int(container_middle[Y] + GATE_SIZE/2)\n",
    "        )\n",
    "        \n",
    "        for i, m in enumerate(molecules):\n",
    "            m.update()\n",
    "            for p in molecules:\n",
    "                m.collide(p)\n",
    "            if m.isHot:\n",
    "                cc.fill_style = \"red\"\n",
    "            else:\n",
    "                cc.fill_style = \"blue\"\n",
    "            # draw molecule\n",
    "            cc.fill_circle(int(m.position[X]), int(m.position[Y]), PARTICLE_RADIUS)\n",
    "        cc.sleep(20)\n",
    "display(cc)"
   ]
  },
  {
   "cell_type": "code",
   "execution_count": 4,
   "id": "ed3691aa-0c53-49fb-ac5b-fc0081d4185b",
   "metadata": {},
   "outputs": [
    {
     "name": "stdout",
     "output_type": "stream",
     "text": [
      "Good side: 47\n",
      "Bad side: 3\n",
      "3 molecule(s) escaped. That's 6.00%\n"
     ]
    }
   ],
   "source": [
    "good_side = 0\n",
    "escaped = 0\n",
    "for m in molecules:\n",
    "    if m._isOnCorrectSide():\n",
    "        good_side += 1\n",
    "    if m.position[X] > CONTAINER_COORDINATES[X] or m.position[Y] > CONTAINER_COORDINATES[Y]:\n",
    "        escaped += 1\n",
    "        #raise RuntimeError(\"A molecule breached containment!\")\n",
    "    elif m.position[X] < 0 or m.position[Y] < 0:\n",
    "        escaped += 1\n",
    "        #raise RuntimeError(\"A molecule breached containment!\")\n",
    "incorrect_molecules = len(molecules) - good_side\n",
    "percentage = escaped/len(molecules) * 100\n",
    "print(f\"Good side: {good_side}\\nBad side: {incorrect_molecules}\")\n",
    "print(f\"{escaped} molecule(s) escaped. That's {percentage:.2f}%\")\n",
    "if escaped >= 5:\n",
    "    raise RuntimeError(\"Too many escaped\")\n",
    "elif escaped == 0:\n",
    "    print(\"Success!!\")"
   ]
  },
  {
   "cell_type": "code",
   "execution_count": null,
   "id": "c87257cf-35ff-4433-94cc-8de1dec616cf",
   "metadata": {},
   "outputs": [],
   "source": []
  }
 ],
 "metadata": {
  "kernelspec": {
   "display_name": "Python 3 (ipykernel)",
   "language": "python",
   "name": "python3"
  },
  "language_info": {
   "codemirror_mode": {
    "name": "ipython",
    "version": 3
   },
   "file_extension": ".py",
   "mimetype": "text/x-python",
   "name": "python",
   "nbconvert_exporter": "python",
   "pygments_lexer": "ipython3",
   "version": "3.11.4"
  }
 },
 "nbformat": 4,
 "nbformat_minor": 5
}
