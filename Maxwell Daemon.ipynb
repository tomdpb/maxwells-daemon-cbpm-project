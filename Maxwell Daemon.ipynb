{
 "cells": [
  {
   "cell_type": "markdown",
   "id": "050011a2-6979-4c7d-8765-c5ed32fc2bec",
   "metadata": {},
   "source": [
    "# Maxwell's Daemon\n",
    "### Final Project for Computer Based Physical Modelling\n",
    "### Thomas de Paula Barbosa - 3749592"
   ]
  },
  {
   "cell_type": "markdown",
   "id": "92a21e01-2919-4c6a-bf6d-7cc3734138be",
   "metadata": {},
   "source": [
    "# Theory\n",
    "## About the Daemon\n",
    "Maxwell's daemon is a thought experiment made to test the validity the Second Law of Thermodynamics. The thought experiment consists in two isolated boxes filled with gas which have a gate in between them. The gate's opening and closing is controlled by a daemon who only allows molecules that have a certain velocity to pass through the gate. After a set amount of time, this means that faster molecules will be on one side, while the slower molecules will be in the other side. This would potentially violate the 2nd Law due to the entropy of the system decreasing\n",
    "\n",
    "## The 2nd Law of Thermodynamics\n",
    "The 2nd Law of Thermodynamics states that in an isolated system, entropy can only increase.\n",
    "\n",
    "\n",
    "## Brief Note on Code\n",
    "While Python is dynamically typed, I like giving type hints for keeping track of things more easily."
   ]
  },
  {
   "cell_type": "markdown",
   "id": "3d05f721-0ff6-4e55-ba29-56a540b5a211",
   "metadata": {},
   "source": [
    "## Creating the Canvas"
   ]
  },
  {
   "cell_type": "code",
   "execution_count": 1,
   "id": "2641df40-8770-4f36-a841-d07741f5ba52",
   "metadata": {},
   "outputs": [],
   "source": [
    "from ipycanvas import hold_canvas, Canvas, MultiCanvas\n",
    "import numpy as np\n",
    "\n",
    "\n",
    "CONTAINER_COORDINATES = np.array([800, 600])  # x, y\n",
    "# the daemon will open the gate for a particle when it reaches this speed\n",
    "SPEED_THRESHHOLD: float = 10.0\n",
    "GATE_SIZE: int = 100\n",
    "X, Y = 0, 1  # this is just for ease of reading\n",
    "PARTICLE_RADIUS: int = 5"
   ]
  },
  {
   "cell_type": "code",
   "execution_count": 2,
   "id": "44982778-6c58-4f23-9bd1-3fe7424c4508",
   "metadata": {},
   "outputs": [],
   "source": [
    "%load_ext autoreload\n",
    "%autoreload complete\n",
    "from particle_class import *\n",
    "molecules = []\n",
    "N_PARTICLES = 50\n",
    "for _ in range(N_PARTICLES):\n",
    "    molecules.append(\n",
    "        Particle(\n",
    "            position=np.array([\n",
    "                # TODO ensure they don't generate on the limits/borders\n",
    "                np.random.uniform(PARTICLE_RADIUS, CONTAINER_COORDINATES[X] - PARTICLE_RADIUS + 1),\n",
    "                np.random.uniform(PARTICLE_RADIUS, CONTAINER_COORDINATES[Y] - PARTICLE_RADIUS + 1),\n",
    "            ]),\n",
    "            velocity=np.random.random(2) * np.random.choice([-1, 1], size=2) * 10,\n",
    "            radius=PARTICLE_RADIUS\n",
    "        )\n",
    "    )\n",
    "\n",
    "# force a hot molecule to be on wrong side\n",
    "molecules[0].position = np.array([CONTAINER_COORDINATES[X]/2 + 20, CONTAINER_COORDINATES[Y]/2 - 200])\n",
    "# molecules[0].velocity = np.array([20, 20])\n",
    "# assert np.hypot(molecules[0].velocity[0], molecules[0].velocity[1]) >= SPEED_THRESHHOLD, \"speed too low\"\n",
    "# force a cold molecule to be on the wrong size\n",
    "molecules[1].position = np.array([CONTAINER_COORDINATES[X]/2 - 20, CONTAINER_COORDINATES[Y]/2 - 200])\n",
    "# molecules[1].velocity = np.array([-10, 10])\n",
    "# assert np.hypot(molecules[0].velocity[0], molecules[0].velocity[1]) >= SPEED_THRESHHOLD, \"speed too high\""
   ]
  },
  {
   "cell_type": "code",
   "execution_count": 3,
   "id": "cf5a4f48-4788-4ed2-9ee5-763d47f198cc",
   "metadata": {},
   "outputs": [
    {
     "data": {
      "application/vnd.jupyter.widget-view+json": {
       "model_id": "ba1551f9c8b74531a5bfaed2d46d93dc",
       "version_major": 2,
       "version_minor": 0
      },
      "text/plain": [
       "Canvas(height=600, width=800)"
      ]
     },
     "metadata": {},
     "output_type": "display_data"
    }
   ],
   "source": [
    "# NOTE ipycanvas seems to have a bug where numbers must be converted to python's int\n",
    "# this happens despite the fact that the documentation claims it should be compatible with numpy\n",
    "cc = Canvas(width=CONTAINER_COORDINATES[X], height=CONTAINER_COORDINATES[Y])\n",
    "container_middle = int(CONTAINER_COORDINATES[X]/2), int(CONTAINER_COORDINATES[Y]/2)\n",
    "STEPS = 2_000\n",
    "with hold_canvas(cc):\n",
    "    for _ in range(STEPS):\n",
    "        cc.clear()\n",
    "        \n",
    "        # box\n",
    "        cc.stroke_style = \"black\"\n",
    "        cc.stroke_rect(1, 1, int(CONTAINER_COORDINATES[X]-1), int(CONTAINER_COORDINATES[Y]-1))\n",
    "        # middle line\n",
    "        cc.stroke_line(\n",
    "            container_middle[X], 0, \n",
    "            container_middle[X], int(container_middle[Y] - GATE_SIZE/2)\n",
    "        )\n",
    "        cc.stroke_line(\n",
    "            container_middle[X], int(CONTAINER_COORDINATES[Y]),\n",
    "            container_middle[X], int(container_middle[Y] + GATE_SIZE/2)\n",
    "        )\n",
    "        # gate/daemon\n",
    "        cc.stroke_style = \"violet\"\n",
    "        cc.stroke_line(\n",
    "            container_middle[X], int(container_middle[Y] - GATE_SIZE/2),\n",
    "            container_middle[X], int(container_middle[Y] + GATE_SIZE/2)\n",
    "        )\n",
    "        \n",
    "        for m in molecules:\n",
    "            m.update()\n",
    "            if m.isHot:\n",
    "                cc.fill_style = \"red\"\n",
    "            else:\n",
    "                cc.fill_style = \"blue\"\n",
    "            # draw molecule\n",
    "            cc.fill_circle(int(m.position[X]), int(m.position[Y]), PARTICLE_RADIUS)\n",
    "        cc.sleep(20)\n",
    "display(cc)"
   ]
  },
  {
   "cell_type": "code",
   "execution_count": 5,
   "id": "ed3691aa-0c53-49fb-ac5b-fc0081d4185b",
   "metadata": {},
   "outputs": [
    {
     "name": "stdout",
     "output_type": "stream",
     "text": [
      "Good side: 27\n",
      "Bad side: 23\n",
      "1 molecule(s) escaped. That's 2.0%\n"
     ]
    }
   ],
   "source": [
    "good_side = 0\n",
    "escaped = 0\n",
    "for m in molecules:\n",
    "    if m._isOnCorrectSide():\n",
    "        good_side += 1\n",
    "    if m.position[X] > CONTAINER_COORDINATES[X] or m.position[Y] > CONTAINER_COORDINATES[Y]:\n",
    "        escaped += 1\n",
    "        #raise RuntimeError(\"A molecule breached containment!\")\n",
    "    elif m.position[X] < 0 or m.position[Y] < 0:\n",
    "        escaped += 1\n",
    "        #raise RuntimeError(\"A molecule breached containment!\")\n",
    "incorrect_molecules = len(molecules) - good_side\n",
    "percentage = escaped/len(molecules) * 100\n",
    "print(f\"Good side: {good_side}\\nBad side: {incorrect_molecules}\")\n",
    "print(f\"{escaped} molecule(s) escaped. That's {percentage:.2}%\")\n",
    "if escaped >= 5:\n",
    "    raise RuntimeError(\"Too man escaped\")\n",
    "elif escaped == 0:\n",
    "    print(\"Success!!\")"
   ]
  },
  {
   "cell_type": "code",
   "execution_count": null,
   "id": "c87257cf-35ff-4433-94cc-8de1dec616cf",
   "metadata": {},
   "outputs": [],
   "source": []
  }
 ],
 "metadata": {
  "kernelspec": {
   "display_name": "Python 3 (ipykernel)",
   "language": "python",
   "name": "python3"
  },
  "language_info": {
   "codemirror_mode": {
    "name": "ipython",
    "version": 3
   },
   "file_extension": ".py",
   "mimetype": "text/x-python",
   "name": "python",
   "nbconvert_exporter": "python",
   "pygments_lexer": "ipython3",
   "version": "3.11.4"
  }
 },
 "nbformat": 4,
 "nbformat_minor": 5
}
